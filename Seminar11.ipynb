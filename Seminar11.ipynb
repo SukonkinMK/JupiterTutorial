{
 "cells": [
  {
   "cell_type": "code",
   "execution_count": 11,
   "id": "8277914f",
   "metadata": {},
   "outputs": [],
   "source": [
    "from sympy import *\n",
    "import matplotlib.pyplot as plt\n",
    "x = Symbol('x')\n",
    "f = 18*x**3+5*x**2 + 10*x - 30"
   ]
  },
  {
   "cell_type": "code",
   "execution_count": 3,
   "id": "5f27acfb",
   "metadata": {},
   "outputs": [
    {
     "data": {
      "text/latex": [
       "$\\displaystyle 18 x^{3} + 5 x^{2} + 10 x - 30$"
      ],
      "text/plain": [
       "18*x**3 + 5*x**2 + 10*x - 30"
      ]
     },
     "execution_count": 3,
     "metadata": {},
     "output_type": "execute_result"
    }
   ],
   "source": [
    "f"
   ]
  },
  {
   "cell_type": "markdown",
   "id": "cc18471f",
   "metadata": {},
   "source": [
    "1) Определить корни"
   ]
  },
  {
   "cell_type": "code",
   "execution_count": 6,
   "id": "206e96f7",
   "metadata": {},
   "outputs": [
    {
     "name": "stdout",
     "output_type": "stream",
     "text": [
      "x = -5/54 + (-1/2 - sqrt(3)*I/2)*(135145/157464 + 5*sqrt(252411)/2916)**(1/3) - 515/(2916*(-1/2 - sqrt(3)*I/2)*(135145/157464 + 5*sqrt(252411)/2916)**(1/3))\n",
      "\n",
      "x = -5/54 - 515/(2916*(-1/2 + sqrt(3)*I/2)*(135145/157464 + 5*sqrt(252411)/2916)**(1/3)) + (-1/2 + sqrt(3)*I/2)*(135145/157464 + 5*sqrt(252411)/2916)**(1/3)\n",
      "\n",
      "x = -515/(2916*(135145/157464 + 5*sqrt(252411)/2916)**(1/3)) - 5/54 + (135145/157464 + 5*sqrt(252411)/2916)**(1/3)\n",
      "\n"
     ]
    }
   ],
   "source": [
    "for l in solve(f,x):\n",
    "    print(f'x = {(l)}\\n')"
   ]
  },
  {
   "cell_type": "markdown",
   "id": "b30916bc",
   "metadata": {},
   "source": [
    "2) Найти интервалы, на которых функция возрастает"
   ]
  },
  {
   "cell_type": "code",
   "execution_count": 7,
   "id": "f31d0979",
   "metadata": {},
   "outputs": [],
   "source": [
    "f_dif = diff(f)"
   ]
  },
  {
   "cell_type": "code",
   "execution_count": 8,
   "id": "8afcfe0f",
   "metadata": {},
   "outputs": [
    {
     "data": {
      "text/latex": [
       "$\\displaystyle 54 x^{2} + 10 x + 10$"
      ],
      "text/plain": [
       "54*x**2 + 10*x + 10"
      ]
     },
     "execution_count": 8,
     "metadata": {},
     "output_type": "execute_result"
    }
   ],
   "source": [
    "f_dif"
   ]
  },
  {
   "cell_type": "code",
   "execution_count": 9,
   "id": "b02e55bb",
   "metadata": {},
   "outputs": [],
   "source": [
    "y = solve(f_dif,x)"
   ]
  },
  {
   "cell_type": "code",
   "execution_count": 10,
   "id": "da608fdf",
   "metadata": {},
   "outputs": [
    {
     "data": {
      "text/plain": [
       "[-5/54 - sqrt(515)*I/54, -5/54 + sqrt(515)*I/54]"
      ]
     },
     "execution_count": 10,
     "metadata": {},
     "output_type": "execute_result"
    }
   ],
   "source": [
    "y"
   ]
  },
  {
   "cell_type": "code",
   "execution_count": 15,
   "id": "6c79583e",
   "metadata": {},
   "outputs": [
    {
     "data": {
      "image/png": "[encoded data removed]",
      "text/plain": [
       "<Figure size 432x288 with 1 Axes>"
      ]
     },
     "metadata": {
      "needs_background": "light"
     },
     "output_type": "display_data"
    }
   ],
   "source": [
    "t = range(-10,10)\n",
    "y = [f.subs(x,i) for i in t]\n",
    "p=plt.plot(t, y)"
   ]
  },
  {
   "cell_type": "markdown",
   "id": "23c5ca5e",
   "metadata": {},
   "source": [
    "Возрастает на всех значениях x"
   ]
  },
  {
   "cell_type": "markdown",
   "id": "307ccc07",
   "metadata": {},
   "source": [
    "3) Найти интервалы, на которых функция убывает"
   ]
  },
  {
   "cell_type": "markdown",
   "id": "04153a2d",
   "metadata": {},
   "source": [
    "Согласно п.2 промежутков убывания нет"
   ]
  },
  {
   "cell_type": "markdown",
   "id": "712faa07",
   "metadata": {},
   "source": [
    "4)Построить график"
   ]
  },
  {
   "cell_type": "code",
   "execution_count": 20,
   "id": "3bdf66b9",
   "metadata": {},
   "outputs": [
    {
     "data": {
      "image/png": "[encoded data removed]",
      "text/plain": [
       "<Figure size 432x288 with 1 Axes>"
      ]
     },
     "metadata": {
      "needs_background": "light"
     },
     "output_type": "display_data"
    },
    {
     "data": {
      "text/plain": [
       "<sympy.plotting.plot.Plot at 0x29bdd9c3250>"
      ]
     },
     "execution_count": 20,
     "metadata": {},
     "output_type": "execute_result"
    }
   ],
   "source": [
    "plotting.plot(f)"
   ]
  },
  {
   "cell_type": "markdown",
   "id": "b3164771",
   "metadata": {},
   "source": [
    "5) Определить промежутки, на котором f > 0"
   ]
  },
  {
   "cell_type": "markdown",
   "id": "d8dd79c2",
   "metadata": {},
   "source": [
    "Согласно п.1 функция меняет знак в точке x = 0.958076038654142. Поэтому f > 0 для x > 0.958076038654142"
   ]
  },
  {
   "cell_type": "markdown",
   "id": "381cd7f5",
   "metadata": {},
   "source": [
    "6) Определить промежутки, на котором f < 0"
   ]
  },
  {
   "cell_type": "markdown",
   "id": "6ba7013d",
   "metadata": {},
   "source": [
    "Согласно п.1 функция меняет знак в точке x = 0.958076038654142. Поэтому f < 0 для x < 0.958076038654142"
   ]
  },
  {
   "cell_type": "code",
   "execution_count": null,
   "id": "34e9139d",
   "metadata": {},
   "outputs": [],
   "source": []
  },
  {
   "cell_type": "code",
   "execution_count": null,
   "id": "4aa9f04f",
   "metadata": {},
   "outputs": [],
   "source": []
  },
  {
   "cell_type": "code",
   "execution_count": null,
   "id": "2fb40485",
   "metadata": {},
   "outputs": [],
   "source": []
  }
 ],
 "metadata": {
  "kernelspec": {
   "display_name": "Python 3 (ipykernel)",
   "language": "python",
   "name": "python3"
  },
  "language_info": {
   "codemirror_mode": {
    "name": "ipython",
    "version": 3
   },
   "file_extension": ".py",
   "mimetype": "text/x-python",
   "name": "python",
   "nbconvert_exporter": "python",
   "pygments_lexer": "ipython3",
   "version": "3.9.7"
  }
 },
 "nbformat": 4,
 "nbformat_minor": 5
}
